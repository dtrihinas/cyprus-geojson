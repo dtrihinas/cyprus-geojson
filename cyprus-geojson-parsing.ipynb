{
 "cells": [
  {
   "cell_type": "code",
   "execution_count": 1,
   "metadata": {
    "ExecuteTime": {
     "end_time": "2020-03-27T18:50:48.390991Z",
     "start_time": "2020-03-27T18:50:33.860064Z"
    }
   },
   "outputs": [],
   "source": [
    "import numpy as np\n",
    "import pandas as pd \n",
    "import matplotlib.pyplot as plt\n",
    "import geopandas as gpd\n",
    "%matplotlib inline"
   ]
  },
  {
   "cell_type": "code",
   "execution_count": 3,
   "metadata": {
    "ExecuteTime": {
     "end_time": "2020-03-27T18:51:46.140595Z",
     "start_time": "2020-03-27T18:51:45.844177Z"
    }
   },
   "outputs": [
    {
     "data": {
      "text/html": [
       "<div>\n",
       "<style scoped>\n",
       "    .dataframe tbody tr th:only-of-type {\n",
       "        vertical-align: middle;\n",
       "    }\n",
       "\n",
       "    .dataframe tbody tr th {\n",
       "        vertical-align: top;\n",
       "    }\n",
       "\n",
       "    .dataframe thead th {\n",
       "        text-align: right;\n",
       "    }\n",
       "</style>\n",
       "<table border=\"1\" class=\"dataframe\">\n",
       "  <thead>\n",
       "    <tr style=\"text-align: right;\">\n",
       "      <th></th>\n",
       "      <th>population</th>\n",
       "      <th>area</th>\n",
       "      <th>geometry</th>\n",
       "    </tr>\n",
       "    <tr>\n",
       "      <th>district</th>\n",
       "      <th></th>\n",
       "      <th></th>\n",
       "      <th></th>\n",
       "    </tr>\n",
       "  </thead>\n",
       "  <tbody>\n",
       "    <tr>\n",
       "      <th>limassol</th>\n",
       "      <td>239842.0</td>\n",
       "      <td>1393.3</td>\n",
       "      <td>POLYGON ((33.26712 34.73809, 33.27604 34.71791...</td>\n",
       "    </tr>\n",
       "    <tr>\n",
       "      <th>paphos</th>\n",
       "      <td>90295.0</td>\n",
       "      <td>1389.8</td>\n",
       "      <td>POLYGON ((32.74372 34.93407, 32.67162 34.96390...</td>\n",
       "    </tr>\n",
       "    <tr>\n",
       "      <th>larnaca</th>\n",
       "      <td>145365.0</td>\n",
       "      <td>1120.1</td>\n",
       "      <td>POLYGON ((33.12481 34.88480, 33.12653 34.85213...</td>\n",
       "    </tr>\n",
       "    <tr>\n",
       "      <th>nicosia</th>\n",
       "      <td>334120.0</td>\n",
       "      <td>2710.0</td>\n",
       "      <td>POLYGON ((32.93495 35.26356, 32.89444 35.17212...</td>\n",
       "    </tr>\n",
       "    <tr>\n",
       "      <th>kerynia</th>\n",
       "      <td>NaN</td>\n",
       "      <td>643.89999999999998</td>\n",
       "      <td>POLYGON ((33.54710 35.28318, 33.60168 35.31541...</td>\n",
       "    </tr>\n",
       "    <tr>\n",
       "      <th>famagusta</th>\n",
       "      <td>47338.0</td>\n",
       "      <td>1985.3</td>\n",
       "      <td>POLYGON ((33.64700 35.35770, 33.64426 35.32521...</td>\n",
       "    </tr>\n",
       "    <tr>\n",
       "      <th>british overseas territory (akrotiri)</th>\n",
       "      <td>NaN</td>\n",
       "      <td>NA</td>\n",
       "      <td>POLYGON ((32.75574 34.65129, 32.83951 34.66710...</td>\n",
       "    </tr>\n",
       "    <tr>\n",
       "      <th>british overseas territory (dhekelia)</th>\n",
       "      <td>NaN</td>\n",
       "      <td>NA</td>\n",
       "      <td>POLYGON ((33.70605 34.97600, 33.74176 34.97825...</td>\n",
       "    </tr>\n",
       "  </tbody>\n",
       "</table>\n",
       "</div>"
      ],
      "text/plain": [
       "                                       population                area  \\\n",
       "district                                                                \n",
       "limassol                                 239842.0              1393.3   \n",
       "paphos                                    90295.0              1389.8   \n",
       "larnaca                                  145365.0              1120.1   \n",
       "nicosia                                  334120.0              2710.0   \n",
       "kerynia                                       NaN  643.89999999999998   \n",
       "famagusta                                 47338.0              1985.3   \n",
       "british overseas territory (akrotiri)         NaN                  NA   \n",
       "british overseas territory (dhekelia)         NaN                  NA   \n",
       "\n",
       "                                                                                geometry  \n",
       "district                                                                                  \n",
       "limassol                               POLYGON ((33.26712 34.73809, 33.27604 34.71791...  \n",
       "paphos                                 POLYGON ((32.74372 34.93407, 32.67162 34.96390...  \n",
       "larnaca                                POLYGON ((33.12481 34.88480, 33.12653 34.85213...  \n",
       "nicosia                                POLYGON ((32.93495 35.26356, 32.89444 35.17212...  \n",
       "kerynia                                POLYGON ((33.54710 35.28318, 33.60168 35.31541...  \n",
       "famagusta                              POLYGON ((33.64700 35.35770, 33.64426 35.32521...  \n",
       "british overseas territory (akrotiri)  POLYGON ((32.75574 34.65129, 32.83951 34.66710...  \n",
       "british overseas territory (dhekelia)  POLYGON ((33.70605 34.97600, 33.74176 34.97825...  "
      ]
     },
     "execution_count": 3,
     "metadata": {},
     "output_type": "execute_result"
    }
   ],
   "source": [
    "fpath = \"cyprus.geojson\"\n",
    "geodata = gpd.read_file(fpath)\n",
    "geodata['population'] = geodata['population'].apply(lambda x : np.nan if x == 'NA' else float(x))\n",
    "geodata['district'] = geodata['district'].str.lower()\n",
    "geodata = geodata.set_index('district')\n",
    "geodata"
   ]
  },
  {
   "cell_type": "code",
   "execution_count": 4,
   "metadata": {
    "ExecuteTime": {
     "end_time": "2020-03-27T18:51:56.126290Z",
     "start_time": "2020-03-27T18:51:55.924877Z"
    }
   },
   "outputs": [
    {
     "data": {
      "text/html": [
       "<div>\n",
       "<style scoped>\n",
       "    .dataframe tbody tr th:only-of-type {\n",
       "        vertical-align: middle;\n",
       "    }\n",
       "\n",
       "    .dataframe tbody tr th {\n",
       "        vertical-align: top;\n",
       "    }\n",
       "\n",
       "    .dataframe thead th {\n",
       "        text-align: right;\n",
       "    }\n",
       "</style>\n",
       "<table border=\"1\" class=\"dataframe\">\n",
       "  <thead>\n",
       "    <tr style=\"text-align: right;\">\n",
       "      <th></th>\n",
       "      <th>population</th>\n",
       "      <th>area</th>\n",
       "      <th>geometry</th>\n",
       "      <th>pop_pct</th>\n",
       "    </tr>\n",
       "    <tr>\n",
       "      <th>district</th>\n",
       "      <th></th>\n",
       "      <th></th>\n",
       "      <th></th>\n",
       "      <th></th>\n",
       "    </tr>\n",
       "  </thead>\n",
       "  <tbody>\n",
       "    <tr>\n",
       "      <th>limassol</th>\n",
       "      <td>239842.0</td>\n",
       "      <td>1393.3</td>\n",
       "      <td>POLYGON ((33.26712 34.73809, 33.27604 34.71791...</td>\n",
       "      <td>0.279875</td>\n",
       "    </tr>\n",
       "    <tr>\n",
       "      <th>paphos</th>\n",
       "      <td>90295.0</td>\n",
       "      <td>1389.8</td>\n",
       "      <td>POLYGON ((32.74372 34.93407, 32.67162 34.96390...</td>\n",
       "      <td>0.105367</td>\n",
       "    </tr>\n",
       "    <tr>\n",
       "      <th>larnaca</th>\n",
       "      <td>145365.0</td>\n",
       "      <td>1120.1</td>\n",
       "      <td>POLYGON ((33.12481 34.88480, 33.12653 34.85213...</td>\n",
       "      <td>0.169629</td>\n",
       "    </tr>\n",
       "    <tr>\n",
       "      <th>nicosia</th>\n",
       "      <td>334120.0</td>\n",
       "      <td>2710.0</td>\n",
       "      <td>POLYGON ((32.93495 35.26356, 32.89444 35.17212...</td>\n",
       "      <td>0.389890</td>\n",
       "    </tr>\n",
       "    <tr>\n",
       "      <th>kerynia</th>\n",
       "      <td>NaN</td>\n",
       "      <td>643.89999999999998</td>\n",
       "      <td>POLYGON ((33.54710 35.28318, 33.60168 35.31541...</td>\n",
       "      <td>0.000000</td>\n",
       "    </tr>\n",
       "    <tr>\n",
       "      <th>famagusta</th>\n",
       "      <td>47338.0</td>\n",
       "      <td>1985.3</td>\n",
       "      <td>POLYGON ((33.64700 35.35770, 33.64426 35.32521...</td>\n",
       "      <td>0.055239</td>\n",
       "    </tr>\n",
       "    <tr>\n",
       "      <th>british overseas territory (akrotiri)</th>\n",
       "      <td>NaN</td>\n",
       "      <td>NA</td>\n",
       "      <td>POLYGON ((32.75574 34.65129, 32.83951 34.66710...</td>\n",
       "      <td>0.000000</td>\n",
       "    </tr>\n",
       "    <tr>\n",
       "      <th>british overseas territory (dhekelia)</th>\n",
       "      <td>NaN</td>\n",
       "      <td>NA</td>\n",
       "      <td>POLYGON ((33.70605 34.97600, 33.74176 34.97825...</td>\n",
       "      <td>0.000000</td>\n",
       "    </tr>\n",
       "  </tbody>\n",
       "</table>\n",
       "</div>"
      ],
      "text/plain": [
       "                                       population                area  \\\n",
       "district                                                                \n",
       "limassol                                 239842.0              1393.3   \n",
       "paphos                                    90295.0              1389.8   \n",
       "larnaca                                  145365.0              1120.1   \n",
       "nicosia                                  334120.0              2710.0   \n",
       "kerynia                                       NaN  643.89999999999998   \n",
       "famagusta                                 47338.0              1985.3   \n",
       "british overseas territory (akrotiri)         NaN                  NA   \n",
       "british overseas territory (dhekelia)         NaN                  NA   \n",
       "\n",
       "                                                                                geometry  \\\n",
       "district                                                                                   \n",
       "limassol                               POLYGON ((33.26712 34.73809, 33.27604 34.71791...   \n",
       "paphos                                 POLYGON ((32.74372 34.93407, 32.67162 34.96390...   \n",
       "larnaca                                POLYGON ((33.12481 34.88480, 33.12653 34.85213...   \n",
       "nicosia                                POLYGON ((32.93495 35.26356, 32.89444 35.17212...   \n",
       "kerynia                                POLYGON ((33.54710 35.28318, 33.60168 35.31541...   \n",
       "famagusta                              POLYGON ((33.64700 35.35770, 33.64426 35.32521...   \n",
       "british overseas territory (akrotiri)  POLYGON ((32.75574 34.65129, 32.83951 34.66710...   \n",
       "british overseas territory (dhekelia)  POLYGON ((33.70605 34.97600, 33.74176 34.97825...   \n",
       "\n",
       "                                        pop_pct  \n",
       "district                                         \n",
       "limassol                               0.279875  \n",
       "paphos                                 0.105367  \n",
       "larnaca                                0.169629  \n",
       "nicosia                                0.389890  \n",
       "kerynia                                0.000000  \n",
       "famagusta                              0.055239  \n",
       "british overseas territory (akrotiri)  0.000000  \n",
       "british overseas territory (dhekelia)  0.000000  "
      ]
     },
     "execution_count": 4,
     "metadata": {},
     "output_type": "execute_result"
    }
   ],
   "source": [
    "total = geodata['population'].sum()\n",
    "geodata['pop_pct'] = geodata['population'] / total\n",
    "geodata['pop_pct'] = geodata['pop_pct'].apply(lambda x : 0 if np.isnan(x) else x)\n",
    "geodata"
   ]
  },
  {
   "cell_type": "code",
   "execution_count": 5,
   "metadata": {
    "ExecuteTime": {
     "end_time": "2020-03-27T18:52:05.734421Z",
     "start_time": "2020-03-27T18:52:05.183180Z"
    }
   },
   "outputs": [
    {
     "data": {
      "text/plain": [
       "<matplotlib.axes._subplots.AxesSubplot at 0x124d8dc18>"
      ]
     },
     "execution_count": 5,
     "metadata": {},
     "output_type": "execute_result"
    },
    {
     "data": {
      "image/png": "[encoded data removed]",
      "text/plain": [
       "<Figure size 432x288 with 2 Axes>"
      ]
     },
     "metadata": {
      "needs_background": "light"
     },
     "output_type": "display_data"
    }
   ],
   "source": [
    "fig, ax = plt.subplots(1, 1)\n",
    "geodata.plot(column=\"pop_pct\", ax=ax, legend=True, cmap='OrRd')"
   ]
  },
  {
   "cell_type": "code",
   "execution_count": 6,
   "metadata": {
    "ExecuteTime": {
     "end_time": "2020-03-27T18:52:12.487735Z",
     "start_time": "2020-03-27T18:52:11.804053Z"
    }
   },
   "outputs": [
    {
     "data": {
      "text/html": [
       "<div>\n",
       "<style scoped>\n",
       "    .dataframe tbody tr th:only-of-type {\n",
       "        vertical-align: middle;\n",
       "    }\n",
       "\n",
       "    .dataframe tbody tr th {\n",
       "        vertical-align: top;\n",
       "    }\n",
       "\n",
       "    .dataframe thead th {\n",
       "        text-align: right;\n",
       "    }\n",
       "</style>\n",
       "<table border=\"1\" class=\"dataframe\">\n",
       "  <thead>\n",
       "    <tr style=\"text-align: right;\">\n",
       "      <th></th>\n",
       "      <th>date</th>\n",
       "      <th>gender</th>\n",
       "      <th>age</th>\n",
       "      <th>nationality</th>\n",
       "      <th>area</th>\n",
       "      <th>impact</th>\n",
       "      <th>profession</th>\n",
       "      <th>hospitalized</th>\n",
       "      <th>ICU</th>\n",
       "      <th>recovered</th>\n",
       "      <th>relation</th>\n",
       "      <th>notes</th>\n",
       "    </tr>\n",
       "    <tr>\n",
       "      <th>caseid</th>\n",
       "      <th></th>\n",
       "      <th></th>\n",
       "      <th></th>\n",
       "      <th></th>\n",
       "      <th></th>\n",
       "      <th></th>\n",
       "      <th></th>\n",
       "      <th></th>\n",
       "      <th></th>\n",
       "      <th></th>\n",
       "      <th></th>\n",
       "      <th></th>\n",
       "    </tr>\n",
       "  </thead>\n",
       "  <tbody>\n",
       "    <tr>\n",
       "      <th>1</th>\n",
       "      <td>10/03/2020</td>\n",
       "      <td>M</td>\n",
       "      <td>25.0</td>\n",
       "      <td>cypriot</td>\n",
       "      <td>limassol</td>\n",
       "      <td>travel (italy)</td>\n",
       "      <td>NaN</td>\n",
       "      <td>0</td>\n",
       "      <td>0</td>\n",
       "      <td>1</td>\n",
       "      <td>-1</td>\n",
       "      <td>NaN</td>\n",
       "    </tr>\n",
       "    <tr>\n",
       "      <th>2</th>\n",
       "      <td>10/03/2020</td>\n",
       "      <td>M</td>\n",
       "      <td>64.0</td>\n",
       "      <td>cypriot</td>\n",
       "      <td>nicosia</td>\n",
       "      <td>travel (uk)</td>\n",
       "      <td>doctor</td>\n",
       "      <td>0</td>\n",
       "      <td>0</td>\n",
       "      <td>1</td>\n",
       "      <td>-1</td>\n",
       "      <td>NaN</td>\n",
       "    </tr>\n",
       "    <tr>\n",
       "      <th>3</th>\n",
       "      <td>11/03/2020</td>\n",
       "      <td>M</td>\n",
       "      <td>NaN</td>\n",
       "      <td>cypriot</td>\n",
       "      <td>nicosia</td>\n",
       "      <td>travel (uk)</td>\n",
       "      <td>NaN</td>\n",
       "      <td>1</td>\n",
       "      <td>0</td>\n",
       "      <td>0</td>\n",
       "      <td>-1</td>\n",
       "      <td>NaN</td>\n",
       "    </tr>\n",
       "    <tr>\n",
       "      <th>4</th>\n",
       "      <td>11/03/2020</td>\n",
       "      <td>F</td>\n",
       "      <td>NaN</td>\n",
       "      <td>cypriot</td>\n",
       "      <td>nicosia</td>\n",
       "      <td>travel (uk)</td>\n",
       "      <td>NaN</td>\n",
       "      <td>1</td>\n",
       "      <td>0</td>\n",
       "      <td>0</td>\n",
       "      <td>-1</td>\n",
       "      <td>NaN</td>\n",
       "    </tr>\n",
       "    <tr>\n",
       "      <th>5</th>\n",
       "      <td>11/03/2020</td>\n",
       "      <td>F</td>\n",
       "      <td>NaN</td>\n",
       "      <td>greek</td>\n",
       "      <td>limassol</td>\n",
       "      <td>travel (italy)</td>\n",
       "      <td>NaN</td>\n",
       "      <td>1</td>\n",
       "      <td>0</td>\n",
       "      <td>1</td>\n",
       "      <td>-1</td>\n",
       "      <td>NaN</td>\n",
       "    </tr>\n",
       "  </tbody>\n",
       "</table>\n",
       "</div>"
      ],
      "text/plain": [
       "              date gender   age nationality      area          impact  \\\n",
       "caseid                                                                  \n",
       "1       10/03/2020      M  25.0     cypriot  limassol  travel (italy)   \n",
       "2       10/03/2020      M  64.0     cypriot   nicosia     travel (uk)   \n",
       "3       11/03/2020      M   NaN     cypriot   nicosia     travel (uk)   \n",
       "4       11/03/2020      F   NaN     cypriot   nicosia     travel (uk)   \n",
       "5       11/03/2020      F   NaN       greek  limassol  travel (italy)   \n",
       "\n",
       "       profession  hospitalized  ICU  recovered relation notes  \n",
       "caseid                                                          \n",
       "1             NaN             0    0          1       -1   NaN  \n",
       "2          doctor             0    0          1       -1   NaN  \n",
       "3             NaN             1    0          0       -1   NaN  \n",
       "4             NaN             1    0          0       -1   NaN  \n",
       "5             NaN             1    0          1       -1   NaN  "
      ]
     },
     "execution_count": 6,
     "metadata": {},
     "output_type": "execute_result"
    }
   ],
   "source": [
    "url = 'https://raw.githubusercontent.com/dtrihinas/covid-19-cyprus-data/master/coronavirus_cyprus_data.csv'\n",
    "cordata = pd.read_csv(url, index_col='caseid')\n",
    "cordata.head()"
   ]
  },
  {
   "cell_type": "code",
   "execution_count": 8,
   "metadata": {
    "ExecuteTime": {
     "end_time": "2020-03-27T18:54:22.274272Z",
     "start_time": "2020-03-27T18:54:22.247485Z"
    }
   },
   "outputs": [
    {
     "data": {
      "text/html": [
       "<div>\n",
       "<style scoped>\n",
       "    .dataframe tbody tr th:only-of-type {\n",
       "        vertical-align: middle;\n",
       "    }\n",
       "\n",
       "    .dataframe tbody tr th {\n",
       "        vertical-align: top;\n",
       "    }\n",
       "\n",
       "    .dataframe thead th {\n",
       "        text-align: right;\n",
       "    }\n",
       "</style>\n",
       "<table border=\"1\" class=\"dataframe\">\n",
       "  <thead>\n",
       "    <tr style=\"text-align: right;\">\n",
       "      <th></th>\n",
       "      <th>population</th>\n",
       "      <th>area</th>\n",
       "      <th>geometry</th>\n",
       "      <th>pop_pct</th>\n",
       "      <th>covid19_cases</th>\n",
       "    </tr>\n",
       "    <tr>\n",
       "      <th>district</th>\n",
       "      <th></th>\n",
       "      <th></th>\n",
       "      <th></th>\n",
       "      <th></th>\n",
       "      <th></th>\n",
       "    </tr>\n",
       "  </thead>\n",
       "  <tbody>\n",
       "    <tr>\n",
       "      <th>limassol</th>\n",
       "      <td>239842.0</td>\n",
       "      <td>1393.3</td>\n",
       "      <td>POLYGON ((33.26712 34.73809, 33.27604 34.71791...</td>\n",
       "      <td>0.279875</td>\n",
       "      <td>7.0</td>\n",
       "    </tr>\n",
       "    <tr>\n",
       "      <th>paphos</th>\n",
       "      <td>90295.0</td>\n",
       "      <td>1389.8</td>\n",
       "      <td>POLYGON ((32.74372 34.93407, 32.67162 34.96390...</td>\n",
       "      <td>0.105367</td>\n",
       "      <td>43.0</td>\n",
       "    </tr>\n",
       "    <tr>\n",
       "      <th>larnaca</th>\n",
       "      <td>145365.0</td>\n",
       "      <td>1120.1</td>\n",
       "      <td>POLYGON ((33.12481 34.88480, 33.12653 34.85213...</td>\n",
       "      <td>0.169629</td>\n",
       "      <td>15.0</td>\n",
       "    </tr>\n",
       "    <tr>\n",
       "      <th>nicosia</th>\n",
       "      <td>334120.0</td>\n",
       "      <td>2710.0</td>\n",
       "      <td>POLYGON ((32.93495 35.26356, 32.89444 35.17212...</td>\n",
       "      <td>0.389890</td>\n",
       "      <td>11.0</td>\n",
       "    </tr>\n",
       "    <tr>\n",
       "      <th>kerynia</th>\n",
       "      <td>NaN</td>\n",
       "      <td>643.89999999999998</td>\n",
       "      <td>POLYGON ((33.54710 35.28318, 33.60168 35.31541...</td>\n",
       "      <td>0.000000</td>\n",
       "      <td>0.0</td>\n",
       "    </tr>\n",
       "    <tr>\n",
       "      <th>famagusta</th>\n",
       "      <td>47338.0</td>\n",
       "      <td>1985.3</td>\n",
       "      <td>POLYGON ((33.64700 35.35770, 33.64426 35.32521...</td>\n",
       "      <td>0.055239</td>\n",
       "      <td>3.0</td>\n",
       "    </tr>\n",
       "    <tr>\n",
       "      <th>british overseas territory (akrotiri)</th>\n",
       "      <td>NaN</td>\n",
       "      <td>NA</td>\n",
       "      <td>POLYGON ((32.75574 34.65129, 32.83951 34.66710...</td>\n",
       "      <td>0.000000</td>\n",
       "      <td>0.0</td>\n",
       "    </tr>\n",
       "    <tr>\n",
       "      <th>british overseas territory (dhekelia)</th>\n",
       "      <td>NaN</td>\n",
       "      <td>NA</td>\n",
       "      <td>POLYGON ((33.70605 34.97600, 33.74176 34.97825...</td>\n",
       "      <td>0.000000</td>\n",
       "      <td>0.0</td>\n",
       "    </tr>\n",
       "  </tbody>\n",
       "</table>\n",
       "</div>"
      ],
      "text/plain": [
       "                                       population                area  \\\n",
       "district                                                                \n",
       "limassol                                 239842.0              1393.3   \n",
       "paphos                                    90295.0              1389.8   \n",
       "larnaca                                  145365.0              1120.1   \n",
       "nicosia                                  334120.0              2710.0   \n",
       "kerynia                                       NaN  643.89999999999998   \n",
       "famagusta                                 47338.0              1985.3   \n",
       "british overseas territory (akrotiri)         NaN                  NA   \n",
       "british overseas territory (dhekelia)         NaN                  NA   \n",
       "\n",
       "                                                                                geometry  \\\n",
       "district                                                                                   \n",
       "limassol                               POLYGON ((33.26712 34.73809, 33.27604 34.71791...   \n",
       "paphos                                 POLYGON ((32.74372 34.93407, 32.67162 34.96390...   \n",
       "larnaca                                POLYGON ((33.12481 34.88480, 33.12653 34.85213...   \n",
       "nicosia                                POLYGON ((32.93495 35.26356, 32.89444 35.17212...   \n",
       "kerynia                                POLYGON ((33.54710 35.28318, 33.60168 35.31541...   \n",
       "famagusta                              POLYGON ((33.64700 35.35770, 33.64426 35.32521...   \n",
       "british overseas territory (akrotiri)  POLYGON ((32.75574 34.65129, 32.83951 34.66710...   \n",
       "british overseas territory (dhekelia)  POLYGON ((33.70605 34.97600, 33.74176 34.97825...   \n",
       "\n",
       "                                        pop_pct  covid19_cases  \n",
       "district                                                        \n",
       "limassol                               0.279875            7.0  \n",
       "paphos                                 0.105367           43.0  \n",
       "larnaca                                0.169629           15.0  \n",
       "nicosia                                0.389890           11.0  \n",
       "kerynia                                0.000000            0.0  \n",
       "famagusta                              0.055239            3.0  \n",
       "british overseas territory (akrotiri)  0.000000            0.0  \n",
       "british overseas territory (dhekelia)  0.000000            0.0  "
      ]
     },
     "execution_count": 8,
     "metadata": {},
     "output_type": "execute_result"
    }
   ],
   "source": [
    "geodata['covid19_cases'] = cordata.groupby('area').size()\n",
    "geodata['covid19_cases'] = geodata['covid19_cases'].apply(lambda x : 0 if np.isnan(x) else x)\n",
    "geodata"
   ]
  },
  {
   "cell_type": "code",
   "execution_count": 9,
   "metadata": {
    "ExecuteTime": {
     "end_time": "2020-03-27T18:54:55.712489Z",
     "start_time": "2020-03-27T18:54:55.441044Z"
    }
   },
   "outputs": [
    {
     "data": {
      "text/plain": [
       "<matplotlib.axes._subplots.AxesSubplot at 0x128645550>"
      ]
     },
     "execution_count": 9,
     "metadata": {},
     "output_type": "execute_result"
    },
    {
     "data": {
      "image/png": "[encoded data removed]",
      "text/plain": [
       "<Figure size 432x288 with 2 Axes>"
      ]
     },
     "metadata": {
      "needs_background": "light"
     },
     "output_type": "display_data"
    }
   ],
   "source": [
    "fig, ax = plt.subplots(1, 1)\n",
    "geodata.plot(column=\"covid19_cases\", ax=ax, legend=True, cmap='OrRd')"
   ]
  },
  {
   "cell_type": "code",
   "execution_count": null,
   "metadata": {},
   "outputs": [],
   "source": []
  }
 ],
 "metadata": {
  "kernelspec": {
   "display_name": "Python 3",
   "language": "python",
   "name": "python3"
  },
  "language_info": {
   "codemirror_mode": {
    "name": "ipython",
    "version": 3
   },
   "file_extension": ".py",
   "mimetype": "text/x-python",
   "name": "python",
   "nbconvert_exporter": "python",
   "pygments_lexer": "ipython3",
   "version": "3.7.3"
  },
  "toc": {
   "base_numbering": 1,
   "nav_menu": {},
   "number_sections": true,
   "sideBar": true,
   "skip_h1_title": false,
   "title_cell": "Table of Contents",
   "title_sidebar": "Contents",
   "toc_cell": false,
   "toc_position": {},
   "toc_section_display": true,
   "toc_window_display": false
  },
  "varInspector": {
   "cols": {
    "lenName": 16,
    "lenType": 16,
    "lenVar": 40
   },
   "kernels_config": {
    "python": {
     "delete_cmd_postfix": "",
     "delete_cmd_prefix": "del ",
     "library": "var_list.py",
     "varRefreshCmd": "print(var_dic_list())"
    },
    "r": {
     "delete_cmd_postfix": ") ",
     "delete_cmd_prefix": "rm(",
     "library": "var_list.r",
     "varRefreshCmd": "cat(var_dic_list()) "
    }
   },
   "types_to_exclude": [
    "module",
    "function",
    "builtin_function_or_method",
    "instance",
    "_Feature"
   ],
   "window_display": false
  }
 },
 "nbformat": 4,
 "nbformat_minor": 2
}
