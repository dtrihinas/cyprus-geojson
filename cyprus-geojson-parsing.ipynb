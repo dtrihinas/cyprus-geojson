{
 "cells": [
  {
   "cell_type": "code",
   "execution_count": 1,
   "metadata": {
    "ExecuteTime": {
     "end_time": "2020-03-28T09:18:31.085555Z",
     "start_time": "2020-03-28T09:18:28.957324Z"
    }
   },
   "outputs": [],
   "source": [
    "import numpy as np\n",
    "import pandas as pd \n",
    "import matplotlib.pyplot as plt\n",
    "import geopandas as gpd\n",
    "%matplotlib inline"
   ]
  },
  {
   "cell_type": "code",
   "execution_count": 2,
   "metadata": {
    "ExecuteTime": {
     "end_time": "2020-03-28T09:18:31.188580Z",
     "start_time": "2020-03-28T09:18:31.088067Z"
    }
   },
   "outputs": [
    {
     "data": {
      "text/html": [
       "<div>\n",
       "<style scoped>\n",
       "    .dataframe tbody tr th:only-of-type {\n",
       "        vertical-align: middle;\n",
       "    }\n",
       "\n",
       "    .dataframe tbody tr th {\n",
       "        vertical-align: top;\n",
       "    }\n",
       "\n",
       "    .dataframe thead th {\n",
       "        text-align: right;\n",
       "    }\n",
       "</style>\n",
       "<table border=\"1\" class=\"dataframe\">\n",
       "  <thead>\n",
       "    <tr style=\"text-align: right;\">\n",
       "      <th></th>\n",
       "      <th>population</th>\n",
       "      <th>area</th>\n",
       "      <th>geometry</th>\n",
       "    </tr>\n",
       "    <tr>\n",
       "      <th>district</th>\n",
       "      <th></th>\n",
       "      <th></th>\n",
       "      <th></th>\n",
       "    </tr>\n",
       "  </thead>\n",
       "  <tbody>\n",
       "    <tr>\n",
       "      <th>limassol</th>\n",
       "      <td>239842.0</td>\n",
       "      <td>1393.3</td>\n",
       "      <td>POLYGON ((33.26712 34.73809, 33.27604 34.71791...</td>\n",
       "    </tr>\n",
       "    <tr>\n",
       "      <th>paphos</th>\n",
       "      <td>90295.0</td>\n",
       "      <td>1389.8</td>\n",
       "      <td>POLYGON ((32.74372 34.93407, 32.67162 34.96390...</td>\n",
       "    </tr>\n",
       "    <tr>\n",
       "      <th>larnaca</th>\n",
       "      <td>145365.0</td>\n",
       "      <td>1120.1</td>\n",
       "      <td>POLYGON ((33.12481 34.88480, 33.12653 34.85213...</td>\n",
       "    </tr>\n",
       "    <tr>\n",
       "      <th>nicosia</th>\n",
       "      <td>334120.0</td>\n",
       "      <td>2710.0</td>\n",
       "      <td>POLYGON ((32.93495 35.26356, 32.89444 35.17212...</td>\n",
       "    </tr>\n",
       "    <tr>\n",
       "      <th>kerynia</th>\n",
       "      <td>NaN</td>\n",
       "      <td>643.89999999999998</td>\n",
       "      <td>POLYGON ((33.54710 35.28318, 33.60168 35.31541...</td>\n",
       "    </tr>\n",
       "    <tr>\n",
       "      <th>famagusta</th>\n",
       "      <td>47338.0</td>\n",
       "      <td>1985.3</td>\n",
       "      <td>POLYGON ((33.64700 35.35770, 33.64426 35.32521...</td>\n",
       "    </tr>\n",
       "    <tr>\n",
       "      <th>british overseas territory (akrotiri)</th>\n",
       "      <td>NaN</td>\n",
       "      <td>NA</td>\n",
       "      <td>POLYGON ((32.75574 34.65129, 32.83951 34.66710...</td>\n",
       "    </tr>\n",
       "    <tr>\n",
       "      <th>british overseas territory (dhekelia)</th>\n",
       "      <td>NaN</td>\n",
       "      <td>NA</td>\n",
       "      <td>POLYGON ((33.70605 34.97600, 33.74176 34.97825...</td>\n",
       "    </tr>\n",
       "  </tbody>\n",
       "</table>\n",
       "</div>"
      ],
      "text/plain": [
       "                                       population                area  \\\n",
       "district                                                                \n",
       "limassol                                 239842.0              1393.3   \n",
       "paphos                                    90295.0              1389.8   \n",
       "larnaca                                  145365.0              1120.1   \n",
       "nicosia                                  334120.0              2710.0   \n",
       "kerynia                                       NaN  643.89999999999998   \n",
       "famagusta                                 47338.0              1985.3   \n",
       "british overseas territory (akrotiri)         NaN                  NA   \n",
       "british overseas territory (dhekelia)         NaN                  NA   \n",
       "\n",
       "                                                                                geometry  \n",
       "district                                                                                  \n",
       "limassol                               POLYGON ((33.26712 34.73809, 33.27604 34.71791...  \n",
       "paphos                                 POLYGON ((32.74372 34.93407, 32.67162 34.96390...  \n",
       "larnaca                                POLYGON ((33.12481 34.88480, 33.12653 34.85213...  \n",
       "nicosia                                POLYGON ((32.93495 35.26356, 32.89444 35.17212...  \n",
       "kerynia                                POLYGON ((33.54710 35.28318, 33.60168 35.31541...  \n",
       "famagusta                              POLYGON ((33.64700 35.35770, 33.64426 35.32521...  \n",
       "british overseas territory (akrotiri)  POLYGON ((32.75574 34.65129, 32.83951 34.66710...  \n",
       "british overseas territory (dhekelia)  POLYGON ((33.70605 34.97600, 33.74176 34.97825...  "
      ]
     },
     "execution_count": 2,
     "metadata": {},
     "output_type": "execute_result"
    }
   ],
   "source": [
    "fpath = \"cyprus.geojson\"\n",
    "geodata = gpd.read_file(fpath)\n",
    "geodata['population'] = geodata['population'].apply(lambda x : np.nan if x == 'NA' else float(x))\n",
    "geodata['district'] = geodata['district'].str.lower()\n",
    "geodata = geodata.set_index('district')\n",
    "geodata"
   ]
  },
  {
   "cell_type": "code",
   "execution_count": 3,
   "metadata": {
    "ExecuteTime": {
     "end_time": "2020-03-28T09:18:31.483948Z",
     "start_time": "2020-03-28T09:18:31.194370Z"
    }
   },
   "outputs": [
    {
     "data": {
      "text/html": [
       "<div>\n",
       "<style scoped>\n",
       "    .dataframe tbody tr th:only-of-type {\n",
       "        vertical-align: middle;\n",
       "    }\n",
       "\n",
       "    .dataframe tbody tr th {\n",
       "        vertical-align: top;\n",
       "    }\n",
       "\n",
       "    .dataframe thead th {\n",
       "        text-align: right;\n",
       "    }\n",
       "</style>\n",
       "<table border=\"1\" class=\"dataframe\">\n",
       "  <thead>\n",
       "    <tr style=\"text-align: right;\">\n",
       "      <th></th>\n",
       "      <th>population</th>\n",
       "      <th>area</th>\n",
       "      <th>geometry</th>\n",
       "      <th>pop_pct</th>\n",
       "    </tr>\n",
       "    <tr>\n",
       "      <th>district</th>\n",
       "      <th></th>\n",
       "      <th></th>\n",
       "      <th></th>\n",
       "      <th></th>\n",
       "    </tr>\n",
       "  </thead>\n",
       "  <tbody>\n",
       "    <tr>\n",
       "      <th>limassol</th>\n",
       "      <td>239842.0</td>\n",
       "      <td>1393.3</td>\n",
       "      <td>POLYGON ((33.26712 34.73809, 33.27604 34.71791...</td>\n",
       "      <td>0.279875</td>\n",
       "    </tr>\n",
       "    <tr>\n",
       "      <th>paphos</th>\n",
       "      <td>90295.0</td>\n",
       "      <td>1389.8</td>\n",
       "      <td>POLYGON ((32.74372 34.93407, 32.67162 34.96390...</td>\n",
       "      <td>0.105367</td>\n",
       "    </tr>\n",
       "    <tr>\n",
       "      <th>larnaca</th>\n",
       "      <td>145365.0</td>\n",
       "      <td>1120.1</td>\n",
       "      <td>POLYGON ((33.12481 34.88480, 33.12653 34.85213...</td>\n",
       "      <td>0.169629</td>\n",
       "    </tr>\n",
       "    <tr>\n",
       "      <th>nicosia</th>\n",
       "      <td>334120.0</td>\n",
       "      <td>2710.0</td>\n",
       "      <td>POLYGON ((32.93495 35.26356, 32.89444 35.17212...</td>\n",
       "      <td>0.389890</td>\n",
       "    </tr>\n",
       "    <tr>\n",
       "      <th>kerynia</th>\n",
       "      <td>NaN</td>\n",
       "      <td>643.89999999999998</td>\n",
       "      <td>POLYGON ((33.54710 35.28318, 33.60168 35.31541...</td>\n",
       "      <td>0.000000</td>\n",
       "    </tr>\n",
       "    <tr>\n",
       "      <th>famagusta</th>\n",
       "      <td>47338.0</td>\n",
       "      <td>1985.3</td>\n",
       "      <td>POLYGON ((33.64700 35.35770, 33.64426 35.32521...</td>\n",
       "      <td>0.055239</td>\n",
       "    </tr>\n",
       "    <tr>\n",
       "      <th>british overseas territory (akrotiri)</th>\n",
       "      <td>NaN</td>\n",
       "      <td>NA</td>\n",
       "      <td>POLYGON ((32.75574 34.65129, 32.83951 34.66710...</td>\n",
       "      <td>0.000000</td>\n",
       "    </tr>\n",
       "    <tr>\n",
       "      <th>british overseas territory (dhekelia)</th>\n",
       "      <td>NaN</td>\n",
       "      <td>NA</td>\n",
       "      <td>POLYGON ((33.70605 34.97600, 33.74176 34.97825...</td>\n",
       "      <td>0.000000</td>\n",
       "    </tr>\n",
       "  </tbody>\n",
       "</table>\n",
       "</div>"
      ],
      "text/plain": [
       "                                       population                area  \\\n",
       "district                                                                \n",
       "limassol                                 239842.0              1393.3   \n",
       "paphos                                    90295.0              1389.8   \n",
       "larnaca                                  145365.0              1120.1   \n",
       "nicosia                                  334120.0              2710.0   \n",
       "kerynia                                       NaN  643.89999999999998   \n",
       "famagusta                                 47338.0              1985.3   \n",
       "british overseas territory (akrotiri)         NaN                  NA   \n",
       "british overseas territory (dhekelia)         NaN                  NA   \n",
       "\n",
       "                                                                                geometry  \\\n",
       "district                                                                                   \n",
       "limassol                               POLYGON ((33.26712 34.73809, 33.27604 34.71791...   \n",
       "paphos                                 POLYGON ((32.74372 34.93407, 32.67162 34.96390...   \n",
       "larnaca                                POLYGON ((33.12481 34.88480, 33.12653 34.85213...   \n",
       "nicosia                                POLYGON ((32.93495 35.26356, 32.89444 35.17212...   \n",
       "kerynia                                POLYGON ((33.54710 35.28318, 33.60168 35.31541...   \n",
       "famagusta                              POLYGON ((33.64700 35.35770, 33.64426 35.32521...   \n",
       "british overseas territory (akrotiri)  POLYGON ((32.75574 34.65129, 32.83951 34.66710...   \n",
       "british overseas territory (dhekelia)  POLYGON ((33.70605 34.97600, 33.74176 34.97825...   \n",
       "\n",
       "                                        pop_pct  \n",
       "district                                         \n",
       "limassol                               0.279875  \n",
       "paphos                                 0.105367  \n",
       "larnaca                                0.169629  \n",
       "nicosia                                0.389890  \n",
       "kerynia                                0.000000  \n",
       "famagusta                              0.055239  \n",
       "british overseas territory (akrotiri)  0.000000  \n",
       "british overseas territory (dhekelia)  0.000000  "
      ]
     },
     "execution_count": 3,
     "metadata": {},
     "output_type": "execute_result"
    }
   ],
   "source": [
    "total = geodata['population'].sum()\n",
    "geodata['pop_pct'] = geodata['population'] / total\n",
    "geodata['pop_pct'] = geodata['pop_pct'].apply(lambda x : 0 if np.isnan(x) else x)\n",
    "geodata"
   ]
  },
  {
   "cell_type": "code",
   "execution_count": 4,
   "metadata": {
    "ExecuteTime": {
     "end_time": "2020-03-28T09:18:31.853427Z",
     "start_time": "2020-03-28T09:18:31.487640Z"
    }
   },
   "outputs": [
    {
     "data": {
      "text/plain": [
       "<matplotlib.axes._subplots.AxesSubplot at 0x1242bcac8>"
      ]
     },
     "execution_count": 4,
     "metadata": {},
     "output_type": "execute_result"
    },
    {
     "data": {
      "image/png": "[encoded data removed]",
      "text/plain": [
       "<Figure size 864x576 with 2 Axes>"
      ]
     },
     "metadata": {
      "needs_background": "light"
     },
     "output_type": "display_data"
    }
   ],
   "source": [
    "fig, ax = plt.subplots(1, 1, figsize = (12,8))\n",
    "geodata.plot(column=\"pop_pct\", ax=ax, legend=True, cmap='OrRd')"
   ]
  },
  {
   "cell_type": "code",
   "execution_count": null,
   "metadata": {},
   "outputs": [],
   "source": []
  }
 ],
 "metadata": {
  "kernelspec": {
   "display_name": "Python 3",
   "language": "python",
   "name": "python3"
  },
  "language_info": {
   "codemirror_mode": {
    "name": "ipython",
    "version": 3
   },
   "file_extension": ".py",
   "mimetype": "text/x-python",
   "name": "python",
   "nbconvert_exporter": "python",
   "pygments_lexer": "ipython3",
   "version": "3.7.3"
  },
  "toc": {
   "base_numbering": 1,
   "nav_menu": {},
   "number_sections": true,
   "sideBar": true,
   "skip_h1_title": false,
   "title_cell": "Table of Contents",
   "title_sidebar": "Contents",
   "toc_cell": false,
   "toc_position": {},
   "toc_section_display": true,
   "toc_window_display": false
  },
  "varInspector": {
   "cols": {
    "lenName": 16,
    "lenType": 16,
    "lenVar": 40
   },
   "kernels_config": {
    "python": {
     "delete_cmd_postfix": "",
     "delete_cmd_prefix": "del ",
     "library": "var_list.py",
     "varRefreshCmd": "print(var_dic_list())"
    },
    "r": {
     "delete_cmd_postfix": ") ",
     "delete_cmd_prefix": "rm(",
     "library": "var_list.r",
     "varRefreshCmd": "cat(var_dic_list()) "
    }
   },
   "types_to_exclude": [
    "module",
    "function",
    "builtin_function_or_method",
    "instance",
    "_Feature"
   ],
   "window_display": false
  }
 },
 "nbformat": 4,
 "nbformat_minor": 2
}
